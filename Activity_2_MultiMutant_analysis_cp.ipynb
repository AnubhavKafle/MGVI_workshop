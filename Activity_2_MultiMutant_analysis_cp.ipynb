{
 "cells": [
  {
   "cell_type": "markdown",
   "metadata": {},
   "source": [
    "# HIV Protease Drug Resistance Analysis: PRS17 Multi-Mutant Study\n",
    "\n",
    "## Overview\n",
    "Comparative structural analysis of wild-type HIV protease versus PRS17 mutant (17 mutations) bound to darunavir, revealing molecular mechanisms of drug resistance.\n",
    "\n",
    "### Structures\n",
    "- **Wild-type**: PDB 1T3R - HIV protease + darunavir\n",
    "- **PRS17 mutant**: PDB 5T2Z - 17-mutation variant + darunavir\n",
    "\n",
    "### Key Mutations in PRS17\n",
    "- **Flap region**: M46L, G48V, I54V\n",
    "- **Active site**: V82S (only active site mutation)\n",
    "- **Hinge region**: E35D, M36I, S37D\n",
    "- **Distal**: K20R (forms new ion pair with E35D)"
   ]
  },
  {
   "cell_type": "markdown",
   "metadata": {},
   "source": [
    "## Part 1: Structure Setup and Visualization"
   ]
  },
  {
   "cell_type": "code",
   "execution_count": null,
   "metadata": {},
   "outputs": [],
   "source": [
    "# Load and prepare structures\n",
    "open 1T3R    # Wild-type HIV protease + darunavir (model #1)\n",
    "open 5T2Z    # PRS17 mutant (17 mutations) + darunavir (model #2)"
   ]
  },
  {
   "cell_type": "code",
   "execution_count": null,
   "metadata": {},
   "outputs": [],
   "source": [
    "# Identify darunavir molecules (ligand code: 017)\n",
    "select #1::name=\"017\"    # Darunavir in wild-type\n",
    "color sel pink\n",
    "select #2::name=\"017\"    # Darunavir in mutant\n",
    "color sel pink\n",
    "\n",
    "# Get ligand information\n",
    "info sel    # Lists all atom types for darunavir"
   ]
  },
  {
   "cell_type": "markdown",
   "metadata": {},
   "source": [
    "### Regional Color Coding - Wild-Type Structure (#1)"
   ]
  },
  {
   "cell_type": "code",
   "execution_count": null,
   "metadata": {},
   "outputs": [],
   "source": [
    "# WILD-TYPE STRUCTURE COLORING\n",
    "# Flap regions (45-55) - mobile loops that close over active site\n",
    "select #1/A:45-55\n",
    "color sel red\n",
    "select #1/B:45-55\n",
    "color sel red\n",
    "\n",
    "# Active site and 80's loop (25, 80-84) - catalytic and binding pocket\n",
    "select #1/A:25,80-84\n",
    "select add #1/B:25,80-84\n",
    "color sel yellow"
   ]
  },
  {
   "cell_type": "code",
   "execution_count": null,
   "metadata": {},
   "outputs": [],
   "source": [
    "# Label key residues in wild-type\n",
    "label #1/A:82@CG1 text \"VAL 82\"       # S1 pocket residue\n",
    "label #1/A:84@CG1 text \"ILE 84\"       # S1 pocket residue\n",
    "label #1/A:25@CG text \"ASP 25 (A)\"    # Catalytic aspartate chain A\n",
    "label #1/B:25@CG text \"ASP 25' (B)\"   # Catalytic aspartate chain B\n",
    "color #1/A:25@CG green                 # Highlight catalytic residues\n",
    "color #1/B:25@CG green"
   ]
  },
  {
   "cell_type": "markdown",
   "metadata": {},
   "source": [
    "### Regional Color Coding - Mutant Structure (#2)"
   ]
  },
  {
   "cell_type": "code",
   "execution_count": null,
   "metadata": {},
   "outputs": [],
   "source": [
    "# MUTANT STRUCTURE COLORING\n",
    "# Flap regions in mutant\n",
    "select #2/A:45-55\n",
    "color sel red\n",
    "select #2/B:45-55\n",
    "color sel red\n",
    "\n",
    "# Active site and 80's loop in mutant\n",
    "select #2/A:25,80-84\n",
    "select add #2/B:25,80-84\n",
    "color sel yellow"
   ]
  },
  {
   "cell_type": "code",
   "execution_count": null,
   "metadata": {},
   "outputs": [],
   "source": [
    "# Label key residues in mutant (note: V82S mutation)\n",
    "label #2/A:82@CG1 text \"m-SER 82\"     # Now Ser82 in mutant\n",
    "label #2/A:84@CG1 text \"m-ILE 84\"\n",
    "label #2/A:25@CG text \"m-ASP 25 (A)\"\n",
    "label #2/B:25@CG text \"m-ASP 25' (B)\"\n",
    "color #2/A:25@CG green\n",
    "color #2/B:25@CG green"
   ]
  },
  {
   "cell_type": "markdown",
   "metadata": {},
   "source": [
    "## Part 2: Distance Measurements and Interaction Analysis\n",
    "\n",
    "### Critical Regions and Their Functions\n",
    "\n",
    "#### 1. **Flap Region (45-55)**\n",
    "- **Function**: Mobile β-hairpin loops acting as a \"lid\" over active site\n",
    "- **States**: Open (substrate entry) vs Closed (traps substrate/inhibitor)\n",
    "- **Key residues**: Ile50 (flap tip), Gly48 (hinge), Phe53 (aromatic stacking)\n",
    "- **PRS17 mutations**: M46L, G48V, I54V create \"twisted\" flap conformation\n",
    "\n",
    "#### 2. **S1/S1′ Pocket (80-84)**\n",
    "- **Function**: Forms substrate binding pockets\n",
    "- **Key residues**: Val82, Ile84\n",
    "- **PRS17 mutation**: V82S - introduces polarity, reduces hydrophobic volume\n",
    "\n",
    "#### 3. **Hinge/Fulcrum Region (35-37)** ⚠️ **MOST IMPORTANT**\n",
    "- **Function**: Controls flap movement dynamics\n",
    "- **PRS17 mutations**: E35D, M36I, S37D + K20R\n",
    "- **Result**: Primary resistance mechanism through reorganized flap dynamics"
   ]
  },
  {
   "cell_type": "markdown",
   "metadata": {},
   "source": [
    "### Wild-Type Distance Measurements"
   ]
  },
  {
   "cell_type": "code",
   "execution_count": null,
   "metadata": {},
   "outputs": [],
   "source": [
    "# FLAP-LIGAND INTERACTIONS (Wild-type)\n",
    "# THE FLAP REGION (45-55): Mobile β-hairpin loops that act as a \"lid\"\n",
    "distance #1/A:46@CG #1/A:1200@C36     # Met46 - hydrophobic flap residue\n",
    "distance #1/A:46@CG #1/A:1200@C37     # Part of flap elbow region\n",
    "distance #1/A:48@CG1 #1/A:1200@C36    # Gly48 - flexible hinge point in flaps\n",
    "distance #1/A:48@CG1 #1/A:1200@C37    # Critical for flap flexibility\n",
    "distance #1/A:50@CG1 #1/A:1200@C36    # Ile50 - FLAP TIP (most critical residue)\n",
    "distance #1/A:50@CG1 #1/A:1200@C37    # Forms lid over active site\n",
    "distance #1/A:53@CZ #1/A:1200@C36     # Phe53 - aromatic stacking with inhibitors\n",
    "distance #1/A:53@CZ #1/A:1200@C37     # Key hydrophobic contact\n",
    "distance #1/A:54@CG2 #1/A:1200@C36    # Val54 - flap base hydrophobic contact\n",
    "distance #1/A:54@CG2 #1/A:1200@C37    # Anchors flap in closed position"
   ]
  },
  {
   "cell_type": "code",
   "execution_count": null,
   "metadata": {},
   "outputs": [],
   "source": [
    "# S1/S1′ POCKET INTERACTIONS (Wild-type)\n",
    "# THE 80's LOOP (80-84): Forms substrate binding pockets\n",
    "distance #1/A:82@CG1 #1/A:1200@C24    # Val82 - defines S1 pocket size/shape\n",
    "distance #1/A:82@CG1 #1/A:1200@C25    # Hydrophobic contacts with P1 group\n",
    "distance #1/A:84@CG1 #1/A:1200@C24    # Ile84 - major S1 pocket residue\n",
    "distance #1/A:84@CG1 #1/A:1200@C25    # Optimal contacts for darunavir P1 region\n",
    "distance #1/A:84@CG1 #1/A:1200@C27    # Central scaffold interactions\n",
    "distance #1/A:84@CG1 #1/A:1200@C29    # Extended P1 binding site\n",
    "distance #1/A:84@CG1 #1/A:1200@O26    # Oxygen interactions with bis-THF groups\n",
    "distance #1/A:84@CG1 #1/A:1200@O28    # Additional polar contacts"
   ]
  },
  {
   "cell_type": "code",
   "execution_count": null,
   "metadata": {},
   "outputs": [],
   "source": [
    "# HINGE LOOP INTERACTIONS (Wild-type)\n",
    "# THE HINGE/FULCRUM REGION (35-37): Controls flap movement\n",
    "distance #1/A:35@CG #1/B:1200@C36     # Glu35 - forms ion pair with Arg57 (flap)\n",
    "distance #1/A:36@CG #1/B:1200@C36     # Met36 - hydrophobic core of hinge\n",
    "distance #1/A:37@OG #1/B:1200@C36     # Ser37 - hydrogen bonding in hinge"
   ]
  },
  {
   "cell_type": "markdown",
   "metadata": {},
   "source": [
    "### PRS17 Mutant Distance Measurements"
   ]
  },
  {
   "cell_type": "code",
   "execution_count": null,
   "metadata": {},
   "outputs": [],
   "source": [
    "# FLAP-LIGAND INTERACTIONS (Mutant)\n",
    "# PRS17 FLAP MUTATIONS: M46L, G48V, I54V\n",
    "# These mutations act synergistically to alter flap conformation\n",
    "distance #2/A:46@CG #2/B:201@C36      # Leu46 (M46L mutation)\n",
    "distance #2/A:46@CG #2/B:201@C37      # Smaller than Met - reduced contacts\n",
    "distance #2/A:48@CG1 #2/B:201@C36     # Val48 (G48V mutation)\n",
    "distance #2/A:48@CG1 #2/B:201@C37     # Adds bulk where Gly was flexible\n",
    "distance #2/A:50@CG1 #2/B:201@C36     # Ile50 (unchanged but affected)\n",
    "distance #2/A:50@CG1 #2/B:201@C37     # Flap tip position altered by nearby mutations\n",
    "distance #2/A:53@CZ #2/B:201@C36      # Phe53 - conformation changed by G48V\n",
    "distance #2/A:53@CZ #2/B:201@C37      # Steric clash with Val48 → alternate conformations\n",
    "distance #2/A:54@CG2 #2/B:201@C36     # Val54 - affected by flap repositioning\n",
    "distance #2/A:54@CG2 #2/B:201@C37     # Part of altered flap base"
   ]
  },
  {
   "cell_type": "code",
   "execution_count": null,
   "metadata": {},
   "outputs": [],
   "source": [
    "# S1/S1′ POCKET INTERACTIONS (Mutant)\n",
    "# PRS17 POCKET MUTATION: V82S (only active site mutation!)\n",
    "# Val82→Ser82: Loss of hydrophobic volume in S1 pocket\n",
    "distance #2/A:82@CG1 #2/B:201@C24     # Ser82 (V82S mutation) - major change\n",
    "distance #2/A:82@CG1 #2/B:201@C25     # Reduced hydrophobic contact with P1\n",
    "distance #2/A:84@CG1 #2/B:201@C24     # Ile84 (unchanged) - maintains some contacts\n",
    "distance #2/A:84@CG1 #2/B:201@C25     # Still provides S1 pocket interactions\n",
    "distance #2/A:84@CG1 #2/B:201@C27     # Central scaffold contacts preserved\n",
    "distance #2/A:84@CG1 #2/B:201@C29     # Extended binding maintained\n",
    "distance #2/A:84@CG1 #2/B:201@O26     # Oxygen interactions retained\n",
    "distance #2/A:84@CG1 #2/B:201@O28     # Additional polar contacts"
   ]
  },
  {
   "cell_type": "code",
   "execution_count": null,
   "metadata": {},
   "outputs": [],
   "source": [
    "# HINGE LOOP INTERACTIONS (Mutant)\n",
    "# PRS17 HINGE MUTATIONS: E35D, M36I, S37D + K20R (distal)\n",
    "# THIS IS THE KEY RESISTANCE MECHANISM!\n",
    "distance #2/A:35@CG #2/B:201@C36      # Asp35 (E35D) - shorter side chain\n",
    "distance #2/A:36@CG #2/B:201@C36      # Ile36 (M36I) - altered hinge core\n",
    "distance #2/A:37@OG #2/B:201@C36      # Asp37 (S37D) - charge change"
   ]
  },
  {
   "cell_type": "markdown",
   "metadata": {},
   "source": [
    "## Part 3: RMSD Analysis - Quantifying Conformational Changes\n",
    "\n",
    "### Expected Results and Interpretations"
   ]
  },
  {
   "cell_type": "code",
   "execution_count": null,
   "metadata": {},
   "outputs": [],
   "source": [
    "# FLAP REGION COMPARISON (45-55)\n",
    "# The mobile β-hairpin loops that control access to active site\n",
    "# Expected result: ~1.0 Å RMSD (moderate change)\n",
    "# Interpretation: Flaps adopt altered conformation but maintain basic structure\n",
    "rmsd #2:45-55@CA to #1:45-55@CA"
   ]
  },
  {
   "cell_type": "code",
   "execution_count": null,
   "metadata": {},
   "outputs": [],
   "source": [
    "# ACTIVE SITE REGION (24-28)\n",
    "# The catalytic machinery: Asp25 (catalytic), Thr26, Gly27, Asp28\n",
    "# Expected result: ~0.2 Å RMSD (highly conserved)\n",
    "# Interpretation: Catalytic geometry preserved → enzyme remains active\n",
    "# THIS IS WHY RESISTANT MUTANTS MAINTAIN PROTEOLYTIC ACTIVITY!\n",
    "rmsd #2:24-28@CA to #1:24-28@CA"
   ]
  },
  {
   "cell_type": "code",
   "execution_count": null,
   "metadata": {},
   "outputs": [],
   "source": [
    "# HINGE REGION (36-37) - *** MOST IMPORTANT MEASUREMENT ***\n",
    "# The fulcrum point that controls flap dynamics\n",
    "# Expected result: >2.0 Å RMSD (largest conformational change)\n",
    "# Interpretation: THIS IS THE PRIMARY RESISTANCE MECHANISM\n",
    "# Mutations here alter flap opening/closing kinetics → weaker inhibitor binding\n",
    "rmsd #2:36-37@CA to #1:36-37@CA"
   ]
  },
  {
   "cell_type": "code",
   "execution_count": null,
   "metadata": {},
   "outputs": [],
   "source": [
    "# INDIVIDUAL HINGE RESIDUE ANALYSIS\n",
    "# Glu35→Asp35: Expected >4.0 Å displacement (largest single residue change)\n",
    "# This residue shows the most dramatic rearrangement in PRS17\n",
    "rmsd #2:35@CA to #1:35@CA\n",
    "\n",
    "# Met36→Ile36: Altered hydrophobic core of hinge\n",
    "rmsd #1/A:36@CA to #2/A:36@CA\n",
    "\n",
    "# Ser37→Asp37: Charge change affects hydrogen bonding network\n",
    "rmsd #1/A:37@CA to #2/A:37@CA"
   ]
  },
  {
   "cell_type": "markdown",
   "metadata": {},
   "source": [
    "## Part 4: Advanced Structural Analysis"
   ]
  },
  {
   "cell_type": "code",
   "execution_count": null,
   "metadata": {},
   "outputs": [],
   "source": [
    "# STRUCTURE SUPERPOSITION\n",
    "# Align on conserved active site region\n",
    "matchmaker #2:24-28@CA to #1:24-28@CA\n",
    "\n",
    "# HYDROGEN BOND ANALYSIS\n",
    "# Examine ligand binding interactions\n",
    "hbonds ligand\n",
    "\n",
    "# B-FACTOR COLORING\n",
    "# Visualize flexibility/mobility\n",
    "color byattribute bfactor"
   ]
  },
  {
   "cell_type": "code",
   "execution_count": null,
   "metadata": {},
   "outputs": [],
   "source": [
    "# HIGHLIGHT HINGE REGIONS\n",
    "# Focus on most changed region\n",
    "select #1/A:36-37     # Wild-type hinge\n",
    "color sel orange\n",
    "select #2/A:36-37     # Mutant hinge\n",
    "color sel orange"
   ]
  },
  {
   "cell_type": "code",
   "execution_count": null,
   "metadata": {},
   "outputs": [],
   "source": [
    "# CRITICAL CATALYTIC INTERACTIONS\n",
    "# Central hydroxyl of darunavir with catalytic aspartates\n",
    "distance #1/A:25@OD1 #1/A:1200@O18   # WT: Asp25 to darunavir OH\n",
    "distance #2/A:25@OD1 #2/A:201@O18    # Mutant: Asp25 to darunavir OH\n",
    "\n",
    "# Compare binding geometry preservation\n",
    "distance #1/A:25@OD1 #1/B:25@OD1     # WT catalytic distance\n",
    "distance #2/A:25@OD1 #2/B:25@OD1     # Mutant catalytic distance"
   ]
  },
  {
   "cell_type": "markdown",
   "metadata": {},
   "source": [
    "## Key Findings and Resistance Mechanism\n",
    "\n",
    "### Primary Resistance Mechanism\n",
    "1. **Hinge region reorganization** (E35D, M36I, S37D + K20R)\n",
    "   - Complete restructuring of the fulcrum point for flap movement\n",
    "   - K20R forms new ion pair with E35D, stabilizing altered conformation\n",
    "   - Results in increased flap flexibility and altered opening/closing kinetics\n",
    "\n",
    "### Secondary Mechanisms\n",
    "2. **Flap mutations** (M46L, G48V, I54V)\n",
    "   - Create \"twisted\" flap conformation (partially open but curled)\n",
    "   - Synergistic effect reduces inhibitor binding affinity\n",
    "\n",
    "3. **Active site mutation** (V82S)\n",
    "   - Loss of hydrophobic volume in S1 pocket\n",
    "   - Introduction of polarity where hydrophobic contact expected\n",
    "   - Compensated by 0.8Å main chain shift\n",
    "\n",
    "### Critical Observation\n",
    "**The catalytic machinery remains intact** (RMSD ~0.2 Å for residues 24-28), explaining why resistant mutants maintain proteolytic activity while reducing inhibitor binding."
   ]
  },
  {
   "cell_type": "markdown",
   "metadata": {},
   "source": [
    "## Visualization Tips for Publication\n",
    "\n",
    "1. **For presentations**: Use the color-coded regions\n",
    "   - Red: flaps\n",
    "   - Yellow: active site\n",
    "   - Green: catalytic residues\n",
    "   - Orange: hinge region\n",
    "\n",
    "2. **For detailed analysis**: Focus on the hinge region (35-37) as it shows the largest conformational change\n",
    "\n",
    "3. **For understanding resistance**: Compare distance measurements between wild-type and mutant, especially in the hinge and flap regions\n",
    "\n",
    "4. **For publication figures**: \n",
    "   - Use B-factor coloring to show flexibility changes\n",
    "   - Highlight the K20R-E35D ion pair formation in mutant\n",
    "   - Show the \"twisted\" flap conformation in overlay views"
   ]
  },
  {
   "cell_type": "markdown",
   "metadata": {},
   "source": [
    "## Additional Analysis Commands"
   ]
  },
  {
   "cell_type": "code",
   "execution_count": null,
   "metadata": {},
   "outputs": [],
   "source": [
    "# Save session for later analysis\n",
    "save ~/Desktop/PRS17_analysis.cxs\n",
    "\n",
    "# Export publication-quality images\n",
    "# save ~/Desktop/PRS17_overview.png width 2400 height 1800 supersample 3\n",
    "\n",
    "# Create movie showing conformational differences\n",
    "# morph #1,2 frames 60"
   ]
  }
 ],
 "metadata": {
  "kernelspec": {
   "display_name": "ChimeraX",
   "language": "python",
   "name": "chimerax"
  },
  "language_info": {
   "name": "python",
   "version": "3.9.0"
  }
 },
 "nbformat": 4,
 "nbformat_minor": 4
}
