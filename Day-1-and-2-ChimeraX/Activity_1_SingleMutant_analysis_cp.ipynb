{
 "cells": [
  {
   "cell_type": "markdown",
   "metadata": {},
   "source": [
    "# HIV-1 Protease Single Mutant Analysis\n",
    "\n",
    "## Overview\n",
    "Comparative structural analysis of single-point mutations in HIV-1 protease bound to darunavir, focusing on critical resistance mutations at positions 50 and 84.\n",
    "\n",
    "### Structures Analyzed\n",
    "- **I50V mutant**: PDB 6DH6 - Isoleucine to Valine at position 50\n",
    "- **I84V mutant**: PDB 6DH0 - Isoleucine to Valine at position 84\n",
    "- **Wild-type reference**: PDB 1T3R - HIV protease + darunavir\n",
    "\n",
    "### Mutation Significance\n",
    "- **I50V**: Located at the flap tip - most critical position for inhibitor binding\n",
    "- **I84V**: Key S1 pocket residue - major determinant of substrate specificity"
   ]
  },
  {
   "cell_type": "markdown",
   "metadata": {},
   "source": [
    "## Part 1: I50V Mutant Analysis\n",
    "\n",
    "### Background\n",
    "Position 50 is at the flap tip, forming a critical \"lid\" over the active site. The I50V mutation reduces the side chain volume, affecting the closure of the flaps over bound inhibitors."
   ]
  },
  {
   "cell_type": "code",
   "execution_count": null,
   "metadata": {},
   "outputs": [],
   "source": [
    "# Load I50V mutant structure\n",
    "open 6dh6"
   ]
  },
  {
   "cell_type": "code",
   "execution_count": null,
   "metadata": {},
   "outputs": [],
   "source": [
    "# Distance measurements for I50V mutant\n",
    "# Measuring Val50 interactions with darunavir (ligand 104)\n",
    "# Note: Valine has shorter side chain than Isoleucine\n",
    "\n",
    "# Core interactions with darunavir scaffold\n",
    "distance #1/A:50@CG1 #1/A:104@N1     # To aniline nitrogen\n",
    "distance #1/A:50@CG1 #1/A:104@C33    # To benzene ring carbon\n",
    "distance #1/A:50@CG1 #1/A:104@C38    # To terminal carbon"
   ]
  },
  {
   "cell_type": "code",
   "execution_count": null,
   "metadata": {},
   "outputs": [],
   "source": [
    "# Additional hydrophobic contacts\n",
    "distance #1/A:50@CG1 #1/A:104@C34    # Aromatic carbon\n",
    "distance #1/A:50@CG1 #1/A:104@C35    # Aromatic carbon\n",
    "distance #1/A:50@CG1 #1/A:104@C36    # Aromatic carbon\n",
    "distance #1/A:50@CG1 #1/A:104@C37    # Aromatic carbon"
   ]
  },
  {
   "cell_type": "code",
   "execution_count": null,
   "metadata": {},
   "outputs": [],
   "source": [
    "# Polar interactions\n",
    "distance #1/A:50@CG1 #1/A:104@S8     # To sulfonamide sulfur\n",
    "distance #1/A:50@CG1 #1/A:104@N11    # To sulfonamide nitrogen"
   ]
  },
  {
   "cell_type": "markdown",
   "metadata": {},
   "source": [
    "## Part 2: Wild-Type Comparison for Position 50\n",
    "\n",
    "### Loading Wild-Type Structure\n",
    "Compare the mutant interactions with wild-type to understand the impact of I50V mutation."
   ]
  },
  {
   "cell_type": "code",
   "execution_count": null,
   "metadata": {},
   "outputs": [],
   "source": [
    "# Load wild-type structure\n",
    "open 1T3R"
   ]
  },
  {
   "cell_type": "code",
   "execution_count": null,
   "metadata": {},
   "outputs": [],
   "source": [
    "# Wild-type Ile50 interactions with darunavir (ligand 1200)\n",
    "# Isoleucine has longer, branched side chain providing more contacts\n",
    "\n",
    "# Core scaffold interactions\n",
    "distance #3/A:50@CG1 #3/A:1200@C33   # Benzene ring\n",
    "distance #3/A:50@CG1 #3/A:1200@C34   # Aromatic carbon\n",
    "distance #3/A:50@CG1 #3/A:1200@C35   # Aromatic carbon"
   ]
  },
  {
   "cell_type": "code",
   "execution_count": null,
   "metadata": {},
   "outputs": [],
   "source": [
    "# Extended hydrophobic network\n",
    "distance #3/A:50@CG1 #3/A:1200@C36   # Aromatic carbon\n",
    "distance #3/A:50@CG1 #3/A:1200@C37   # Aromatic carbon\n",
    "distance #3/A:50@CG1 #3/A:1200@C38   # Terminal carbon"
   ]
  },
  {
   "cell_type": "code",
   "execution_count": null,
   "metadata": {},
   "outputs": [],
   "source": [
    "# Polar group interactions\n",
    "distance #3/A:50@CG1 #3/A:1200@S8    # Sulfonamide sulfur\n",
    "distance #3/A:50@CG1 #3/A:1200@N11   # Sulfonamide nitrogen\n",
    "distance #3/A:50@CG1 #3/A:1200@O9    # Sulfonamide oxygen"
   ]
  },
  {
   "cell_type": "markdown",
   "metadata": {},
   "source": [
    "## Part 3: Wild-Type Analysis for Position 84\n",
    "\n",
    "### S1 Pocket Interactions\n",
    "Position 84 is a key residue in the S1 substrate binding pocket, critical for recognizing the P1 group of substrates and inhibitors."
   ]
  },
  {
   "cell_type": "code",
   "execution_count": null,
   "metadata": {},
   "outputs": [],
   "source": [
    "# Wild-type Ile84 interactions with darunavir\n",
    "# Ile84 forms the \"floor\" of the S1 pocket\n",
    "\n",
    "# P1 group interactions (bis-THF moiety)\n",
    "distance #3/A:84@CG1 #3/A:1200@C24   # THF carbon\n",
    "distance #3/A:84@CG1 #3/A:1200@C25   # THF carbon\n",
    "distance #3/A:84@CG1 #3/A:1200@C27   # Central scaffold"
   ]
  },
  {
   "cell_type": "code",
   "execution_count": null,
   "metadata": {},
   "outputs": [],
   "source": [
    "# Extended binding surface\n",
    "distance #3/A:84@CG1 #3/A:1200@C29   # Extended P1 region\n",
    "\n",
    "# Oxygen interactions with bis-THF groups\n",
    "distance #3/A:84@CG1 #3/A:1200@O26   # THF oxygen\n",
    "distance #3/A:84@CG1 #3/A:1200@O28   # THF oxygen"
   ]
  },
  {
   "cell_type": "markdown",
   "metadata": {},
   "source": [
    "## Part 4: I84V Mutant Analysis\n",
    "\n",
    "### Loading I84V Mutant\n",
    "The I84V mutation reduces side chain volume in the S1 pocket, affecting inhibitor binding while maintaining substrate processing."
   ]
  },
  {
   "cell_type": "code",
   "execution_count": null,
   "metadata": {},
   "outputs": [],
   "source": [
    "# Load I84V mutant structure\n",
    "open 6dh0"
   ]
  },
  {
   "cell_type": "code",
   "execution_count": null,
   "metadata": {},
   "outputs": [],
   "source": [
    "# I84V mutant Val84 interactions with darunavir (ligand 101)\n",
    "# Valine has reduced hydrophobic volume compared to Isoleucine\n",
    "\n",
    "# P1 group interactions (reduced contacts)\n",
    "distance #4/A:84@CG1 #4/A:101@C24    # THF carbon\n",
    "distance #4/A:84@CG1 #4/A:101@C25    # THF carbon\n",
    "distance #4/A:84@CG1 #4/A:101@C27    # Central scaffold"
   ]
  },
  {
   "cell_type": "code",
   "execution_count": null,
   "metadata": {},
   "outputs": [],
   "source": [
    "# Remaining contacts\n",
    "distance #1/A:84@CG1 #1/A:101@C29    # Extended region\n",
    "\n",
    "# Oxygen interactions (potentially weakened)\n",
    "distance #1/A:84@CG1 #1/A:101@O26    # THF oxygen\n",
    "distance #1/A:84@CG1 #1/A:101@O28    # THF oxygen"
   ]
  },
  {
   "cell_type": "markdown",
   "metadata": {},
   "source": [
    "## Part 5: Comparative Analysis and Visualization\n",
    "\n",
    "### Setting Up Comparative Views"
   ]
  },
  {
   "cell_type": "code",
   "execution_count": null,
   "metadata": {},
   "outputs": [],
   "source": [
    "# Align all structures on active site for comparison\n",
    "# Note: May need to adjust model numbers based on loading order\n",
    "match #3:24-28@CA to #1:24-28@CA    # Align 1T3R to 6DH6\n",
    "match #4:24-28@CA to #1:24-28@CA    # Align 6DH0 to 6DH6"
   ]
  },
  {
   "cell_type": "code",
   "execution_count": null,
   "metadata": {},
   "outputs": [],
   "source": [
    "# Color coding for clarity\n",
    "# I50V mutant (6DH6)\n",
    "color #1 lightblue\n",
    "select #1:50\n",
    "color sel red\n",
    "label #1/A:50@CA text \"Val50 (mutant)\"\n",
    "\n",
    "# Wild-type (1T3R)\n",
    "color #3 lightgray\n",
    "select #3:50\n",
    "color sel green\n",
    "label #3/A:50@CA text \"Ile50 (WT)\"\n",
    "\n",
    "# I84V mutant (6DH0)\n",
    "color #4 lightyellow\n",
    "select #4:84\n",
    "color sel orange\n",
    "label #4/A:84@CA text \"Val84 (mutant)\""
   ]
  },
  {
   "cell_type": "code",
   "execution_count": null,
   "metadata": {},
   "outputs": [],
   "source": [
    "# Highlight darunavir in each structure\n",
    "select #1::name=\"017\"\n",
    "color sel hotpink\n",
    "show sel stick\n",
    "\n",
    "select #3::name=\"017\"\n",
    "color sel hotpink\n",
    "show sel stick\n",
    "\n",
    "select #4::name=\"017\"\n",
    "color sel hotpink\n",
    "show sel stick"
   ]
  },
  {
   "cell_type": "markdown",
   "metadata": {},
   "source": [
    "## Part 6: Quantitative Analysis\n",
    "\n",
    "### RMSD Calculations"
   ]
  },
  {
   "cell_type": "code",
   "execution_count": null,
   "metadata": {},
   "outputs": [],
   "source": [
    "# Calculate RMSD for mutation sites\n",
    "# Position 50 comparison (I50V)\n",
    "rmsd #1:50@CA,C,N,O to #3:50@CA,C,N,O\n",
    "\n",
    "# Position 84 comparison (I84V)\n",
    "rmsd #3:84@CA,C,N,O to #4:84@CA,C,N,O"
   ]
  },
  {
   "cell_type": "code",
   "execution_count": null,
   "metadata": {},
   "outputs": [],
   "source": [
    "# Overall structure comparison\n",
    "# Flap region (45-55) for I50V impact\n",
    "rmsd #1:45-55@CA to #3:45-55@CA\n",
    "\n",
    "# S1 pocket region (80-84) for I84V impact\n",
    "rmsd #4:80-84@CA to #3:80-84@CA\n",
    "\n",
    "# Active site conservation\n",
    "rmsd #1:24-28@CA to #3:24-28@CA\n",
    "rmsd #4:24-28@CA to #3:24-28@CA"
   ]
  },
  {
   "cell_type": "markdown",
   "metadata": {},
   "source": [
    "## Part 7: Resistance Mechanism Analysis\n",
    "\n",
    "### Key Observations"
   ]
  },
  {
   "cell_type": "code",
   "execution_count": null,
   "metadata": {},
   "outputs": [],
   "source": [
    "# Measure volume changes at mutation sites\n",
    "# This helps visualize the loss of van der Waals contacts\n",
    "\n",
    "# Show surface for wild-type Ile50\n",
    "select #2:50\n",
    "surface sel\n",
    "transparency sel 50 target s\n",
    "color sel green target s\n",
    "\n",
    "# Show surface for mutant Val50\n",
    "select #1:50\n",
    "surface sel\n",
    "transparency sel 50 target s\n",
    "color sel red target s"
   ]
  },
  {
   "cell_type": "code",
   "execution_count": null,
   "metadata": {},
   "outputs": [],
   "source": [
    "# Similar analysis for position 84\n",
    "# Wild-type Ile84 surface\n",
    "select #3:84\n",
    "surface sel\n",
    "transparency sel 50 target s\n",
    "color sel green target s\n",
    "\n",
    "# Mutant Val84 surface\n",
    "select #4:84\n",
    "surface sel\n",
    "transparency sel 50 target s\n",
    "color sel orange target s"
   ]
  },
  {
   "cell_type": "code",
   "execution_count": null,
   "metadata": {},
   "outputs": [],
   "source": [
    "# Hydrogen bond analysis\n",
    "# Check if mutations affect H-bonding networks\n",
    "hbonds #1 reveal true\n",
    "hbonds #3 reveal true\n",
    "hbonds #4 reveal true\n",
    "\n",
    "# For wild-type (1T3R) - ligand 1200  \n",
    "hbonds #3:1200 restrict #3 & protein reveal true color yellow radius 0.1\n",
    "# For I50V mutant (6DH6) - ligand 104\n",
    "hbonds #1:104 restrict #1 & protein reveal true color cyan radius 0.1\n",
    "# For I84V mutant (6DH0) - ligand 101\n",
    "hbonds #3:101 restrict #3 & protein reveal true color magenta radius 0.1\n"
   ]
  },
  {
   "cell_type": "markdown",
   "metadata": {},
   "source": [
    "## Part 8: Save Analysis and Export"
   ]
  },
  {
   "cell_type": "code",
   "execution_count": null,
   "metadata": {},
   "outputs": [],
   "source": [
    "# Save session for later analysis\n",
    "save ~/Desktop/HIV_single_mutants_analysis.cxs\n",
    "\n",
    "# Save individual views\n",
    "view name \"I50V_comparison\"\n",
    "view #1:45-55 #2:45-55\n",
    "save ~/Desktop/I50V_view.png width 2400 height 1800 supersample 3\n",
    "\n",
    "view name \"I84V_comparison\"\n",
    "view #2:80-84 #3:80-84\n",
    "save ~/Desktop/I84V_view.png width 2400 height 1800 supersample 3"
   ]
  },
  {
   "cell_type": "code",
   "execution_count": null,
   "metadata": {},
   "outputs": [],
   "source": [
    "# Create comparison figure\n",
    "tile\n",
    "save ~/Desktop/mutation_comparison.png width 3600 height 1800 supersample 3"
   ]
  },
  {
   "cell_type": "markdown",
   "metadata": {},
   "source": [
    "## Summary: Resistance Mechanisms\n",
    "\n",
    "### I50V Mutation (Flap Tip)\n",
    "**Location**: Position 50 - apex of the flap region\n",
    "\n",
    "**Structural Impact**:\n",
    "- Loss of one methyl group (Ile → Val)\n",
    "- Reduced van der Waals contacts with inhibitor\n",
    "- Increased flap flexibility\n",
    "- Weakened \"grip\" on bound inhibitor\n",
    "\n",
    "**Resistance Mechanism**:\n",
    "- Faster inhibitor dissociation rates\n",
    "- Maintained substrate processing (substrates are more flexible)\n",
    "- Often combined with other flap mutations (e.g., I47V, I54V)\n",
    "\n",
    "### I84V Mutation (S1 Pocket)\n",
    "**Location**: Position 84 - floor of the S1 substrate binding pocket\n",
    "\n",
    "**Structural Impact**:\n",
    "- Loss of one methyl group (Ile → Val)\n",
    "- Enlarged S1 pocket volume\n",
    "- Reduced hydrophobic contacts with P1 group\n",
    "- Particularly affects bis-THF moiety of darunavir\n",
    "\n",
    "**Resistance Mechanism**:\n",
    "- Selective pressure against rigid inhibitors\n",
    "- Natural substrates (with flexible P1 groups) still processed\n",
    "- Often appears with I50V creating dual resistance\n",
    "\n",
    "### Clinical Significance\n",
    "- Both mutations reduce inhibitor binding ~10-fold individually\n",
    "- Combined I50V/I84V shows synergistic resistance (>100-fold)\n",
    "- Catalytic efficiency maintained at ~70-80% of wild-type\n",
    "- Common in treatment-experienced patients\n",
    "\n",
    "### Key Distance Changes\n",
    "**I50V**: Distances to darunavir increase by 0.5-1.0 Å\n",
    "**I84V**: Distances to P1 group increase by 0.3-0.8 Å\n",
    "\n",
    "These seemingly small changes have profound effects on binding kinetics!"
   ]
  }
 ],
 "metadata": {
  "kernelspec": {
   "display_name": "ChimeraX",
   "language": "python",
   "name": "chimerax"
  },
  "language_info": {
   "name": "python",
   "version": "3.9.0"
  }
 },
 "nbformat": 4,
 "nbformat_minor": 4
}
