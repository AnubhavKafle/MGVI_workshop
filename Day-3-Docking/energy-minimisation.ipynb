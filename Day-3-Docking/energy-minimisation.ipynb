{
 "cells": [
  {
   "cell_type": "code",
   "execution_count": 1,
   "id": "296422f9",
   "metadata": {},
   "outputs": [],
   "source": [
    "import openmm.app as app\n",
    "import openmm as om\n",
    "from openmm import unit\n"
   ]
  },
  {
   "cell_type": "code",
   "execution_count": 2,
   "id": "5db57b0f",
   "metadata": {},
   "outputs": [],
   "source": [
    "\n",
    "# Load PDB file and force field\n",
    "pdf_file=\"/Users/kap037/Desktop/CSIRO-Malaysia-alphafold/scripts/hiv_protease_darunavir_receptor_ph_5.5.pdb\"\n",
    "pdb = app.PDBFile(pdf_file)\n",
    "forcefield = app.ForceField('amber14-all.xml', 'amber14/tip3pfb.xml')\n",
    "\n"
   ]
  },
  {
   "cell_type": "code",
   "execution_count": null,
   "id": "4f12e6d6",
   "metadata": {},
   "outputs": [
    {
     "name": "stdout",
     "output_type": "stream",
     "text": [
      "Performing energy minimization...\n",
      "Minimization complete.\n"
     ]
    }
   ],
   "source": [
    "\n",
    "\n",
    "# Create System and Integrator (though not strictly needed for minimization, often present)\n",
    "#https://github.com/openmm/openmm/issues/3782\n",
    "#https://docs.openmm.org/latest/userguide/application/02_running_sims.html\n",
    "\n",
    "#The assignment below combines the force field with the molecular topology loaded from the PDB file to create a complete mathematical description of the system we want to simulate.\n",
    "#PME - Particle mesh ewald for long range electrostatic interaction calculation \n",
    "system = forcefield.createSystem(pdb.topology, nonbondedMethod=app.PME,\n",
    "                                 nonbondedCutoff=1.0*unit.nanometers, constraints=app.HBonds)\n",
    "integrator = om.LangevinIntegrator(300*unit.kelvin, 1.0/unit.picoseconds, 2.0*unit.femtoseconds)\n",
    "\n",
    "# Create Context\n",
    "simulation = app.Simulation(pdb.topology, system, integrator)\n",
    "simulation.context.setPositions(pdb.positions)\n",
    "\n",
    "# Perform energy minimization\n",
    "print('Performing energy minimization...')\n",
    "simulation.minimizeEnergy(maxIterations=500, tolerance=10.0*unit.kilojoule_per_mole/unit.nanometer)\n",
    "print('Minimization complete.')\n",
    "\n"
   ]
  },
  {
   "cell_type": "code",
   "execution_count": 4,
   "id": "92764698",
   "metadata": {},
   "outputs": [],
   "source": [
    "\n",
    "\n",
    "# Get minimized positions and save\n",
    "state = simulation.context.getState(getPositions=True)\n",
    "app.PDBFile.writeFile(simulation.topology, state.getPositions(), open('/Users/kap037/Desktop/CSIRO-Malaysia-alphafold/scripts/hiv_protease_darunavir_receptor_ph_5.5_minimized.pdb', 'w'))"
   ]
  }
 ],
 "metadata": {
  "kernelspec": {
   "display_name": "mgvi_docking",
   "language": "python",
   "name": "python3"
  },
  "language_info": {
   "codemirror_mode": {
    "name": "ipython",
    "version": 3
   },
   "file_extension": ".py",
   "mimetype": "text/x-python",
   "name": "python",
   "nbconvert_exporter": "python",
   "pygments_lexer": "ipython3",
   "version": "3.10.18"
  }
 },
 "nbformat": 4,
 "nbformat_minor": 5
}
